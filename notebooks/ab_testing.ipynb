{
 "cells": [
  {
   "cell_type": "code",
   "execution_count": 10,
   "id": "955935b3-4428-4a82-b92e-d21cd4c673a9",
   "metadata": {},
   "outputs": [],
   "source": [
    "import pandas as pd\n",
    "import numpy as np\n",
    "from scipy.stats import chi2_contingency\n",
    "from scipy.stats import ttest_ind\n",
    "# Load cleaned data (same one used in EDA)\n",
    "df = pd.read_csv(\"../data/raw/ml_ratings.csv\", low_memory=False)\n",
    "\n",
    "\n",
    "# Filter and clean\n",
    "df = df[df['TotalClaims'].notnull() & (df['TotalClaims'] >= 0)]\n",
    "df = df[df['TotalPremium'].notnull() & (df['TotalPremium'] >= 0)]\n",
    "\n",
    "# Metrics\n",
    "df['ClaimOccurred'] = df['TotalClaims'] > 0\n",
    "df['Margin'] = df['TotalPremium'] - df['TotalClaims']\n"
   ]
  },
  {
   "cell_type": "code",
   "execution_count": 7,
   "id": "64c56dc2-a815-4896-9f2f-d471c4390585",
   "metadata": {},
   "outputs": [
    {
     "name": "stdout",
     "output_type": "stream",
     "text": [
      "H₀₁ - Province Risk Test: p = 0.0000\n"
     ]
    }
   ],
   "source": [
    "\n",
    "# Create contingency table\n",
    "province_table = pd.crosstab(df['Province'], df['ClaimOccurred'])\n",
    "\n",
    "# Chi-squared test\n",
    "chi2, p, dof, expected = chi2_contingency(province_table)\n",
    "print(f\"H₀₁ - Province Risk Test: p = {p:.4f}\")\n"
   ]
  },
  {
   "cell_type": "code",
   "execution_count": 8,
   "id": "9e5cf298-4abe-4c8a-ae7c-48a3daf2b696",
   "metadata": {},
   "outputs": [
    {
     "name": "stdout",
     "output_type": "stream",
     "text": [
      "H₀₂ - Zip Code Risk Test: p = 0.0580\n"
     ]
    }
   ],
   "source": [
    "# Choose top 2 zip codes\n",
    "top_zips = df['PostalCode'].value_counts().head(2).index.tolist()\n",
    "zip_df = df[df['PostalCode'].isin(top_zips)]\n",
    "\n",
    "# Chi-squared test\n",
    "zip_table = pd.crosstab(zip_df['PostalCode'], zip_df['ClaimOccurred'])\n",
    "chi2, p, dof, expected = chi2_contingency(zip_table)\n",
    "print(f\"H₀₂ - Zip Code Risk Test: p = {p:.4f}\")\n"
   ]
  },
  {
   "cell_type": "code",
   "execution_count": 11,
   "id": "6c282a4a-da74-4fc0-b03e-a4b40d44691e",
   "metadata": {},
   "outputs": [
    {
     "name": "stdout",
     "output_type": "stream",
     "text": [
      "H₀₃ - Zip Code Margin Test: p = 0.2443\n"
     ]
    }
   ],
   "source": [
    "z1, z2 = top_zips\n",
    "m1 = df[df['PostalCode'] == z1]['Margin']\n",
    "m2 = df[df['PostalCode'] == z2]['Margin']\n",
    "\n",
    "# Independent two-sample t-test\n",
    "t_stat, p = ttest_ind(m1, m2, equal_var=False)\n",
    "print(f\"H₀₃ - Zip Code Margin Test: p = {p:.4f}\")"
   ]
  },
  {
   "cell_type": "code",
   "execution_count": 12,
   "id": "c2e6d9a5-c9fd-480e-bfde-f1db152151b6",
   "metadata": {},
   "outputs": [
    {
     "name": "stdout",
     "output_type": "stream",
     "text": [
      "H₀₄ - Gender Risk Test: p = 0.0302\n"
     ]
    }
   ],
   "source": [
    "gender_table = pd.crosstab(df['Gender'], df['ClaimOccurred'])\n",
    "chi2, p, dof, expected = chi2_contingency(gender_table)\n",
    "print(f\"H₀₄ - Gender Risk Test: p = {p:.4f}\")\n"
   ]
  },
  {
   "cell_type": "code",
   "execution_count": 13,
   "id": "609050ea-f19e-41fc-b76e-8916edea90c3",
   "metadata": {},
   "outputs": [
    {
     "name": "stdout",
     "output_type": "stream",
     "text": [
      "H₀₁: Province Risk → Reject H₀ — significant difference\n",
      "H₀₂: Zip Code Risk → Reject H₀ — significant difference\n",
      "H₀₃: Zip Code Margin → Reject H₀ — significant difference\n",
      "H₀₄: Gender Risk → Reject H₀ — significant difference\n"
     ]
    }
   ],
   "source": [
    "def interpret_result(p, threshold=0.05):\n",
    "    return \"Reject H₀ — significant difference\" if p < threshold else \" Fail to reject H₀ — no significant difference\"\n",
    "results = {\n",
    "    \"H₀₁: Province Risk\": interpret_result(p),      \n",
    "    \"H₀₂: Zip Code Risk\": interpret_result(p),\n",
    "    \"H₀₃: Zip Code Margin\": interpret_result(p),\n",
    "    \"H₀₄: Gender Risk\": interpret_result(p)\n",
    "}\n",
    "\n",
    "for hypothesis, conclusion in results.items():\n",
    "    print(f\"{hypothesis} → {conclusion}\")\n",
    "pd.DataFrame(results.items(), columns=[\"Hypothesis\", \"Result\"]).to_csv(\"../data/processed/hypothesis_test_results.csv\", index=False)\n"
   ]
  },
  {
   "cell_type": "code",
   "execution_count": null,
   "id": "189a3e78-2279-45ad-b151-b301d94ec5ec",
   "metadata": {},
   "outputs": [],
   "source": []
  }
 ],
 "metadata": {
  "kernelspec": {
   "display_name": "Python 3 (ipykernel)",
   "language": "python",
   "name": "python3"
  },
  "language_info": {
   "codemirror_mode": {
    "name": "ipython",
    "version": 3
   },
   "file_extension": ".py",
   "mimetype": "text/x-python",
   "name": "python",
   "nbconvert_exporter": "python",
   "pygments_lexer": "ipython3",
   "version": "3.10.12"
  }
 },
 "nbformat": 4,
 "nbformat_minor": 5
}
